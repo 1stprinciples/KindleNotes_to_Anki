{
 "cells": [
  {
   "cell_type": "markdown",
   "metadata": {},
   "source": [
    "to print information for debugging purposes, you can use aqt.utils.showInfo, or write it to stderr with sys.stderr.write(\"text\\n\")."
   ]
  },
  {
   "cell_type": "code",
   "execution_count": 4,
   "metadata": {},
   "outputs": [],
   "source": [
    "from bs4 import BeautifulSoup"
   ]
  },
  {
   "cell_type": "code",
   "execution_count": 35,
   "metadata": {},
   "outputs": [],
   "source": [
    "import os\n",
    "import re"
   ]
  },
  {
   "cell_type": "code",
   "execution_count": 175,
   "metadata": {},
   "outputs": [
    {
     "data": {
      "text/plain": [
       "'/Users/suguthansekar/Library/Mobile Documents/com~apple~CloudDocs/Mine/MS/Course work/Semester 3/Anki imports'"
      ]
     },
     "execution_count": 175,
     "metadata": {},
     "output_type": "execute_result"
    }
   ],
   "source": [
    "os.getcwd()"
   ]
  },
  {
   "cell_type": "code",
   "execution_count": 318,
   "metadata": {},
   "outputs": [],
   "source": [
    "os.chdir(\"/Users/suguthansekar/Library/Mobile Documents/com~apple~CloudDocs/Mine/MS/Course work/Semester 3/Anki imports/\")"
   ]
  },
  {
   "cell_type": "code",
   "execution_count": 313,
   "metadata": {},
   "outputs": [],
   "source": [
    "with open(\"index3.html\", \"r\") as f:\n",
    "    \n",
    "    contents = f.read()\n",
    "\n",
    "    soup = BeautifulSoup(contents, 'html.parser')"
   ]
  },
  {
   "cell_type": "code",
   "execution_count": 314,
   "metadata": {
    "collapsed": true
   },
   "outputs": [
    {
     "name": "stdout",
     "output_type": "stream",
     "text": [
      "<!DOCTYPE html PUBLIC\n",
      "\"-//W3C//DTD XHTML 1.0 Strict//EN\"\n",
      "\"XHTML1-s.dtd\" >\n",
      "<html lang=\"en\" xml:lang=\"en\" xmlns=\"http://www.w3.org/TR/1999/REC-html-in-xml\">\n",
      " <head>\n",
      "  <meta charset=\"utf-8\"/>\n",
      "  <style>\n",
      "   .bodyContainer {\n",
      "            font-family: Arial, Helvetica, sans-serif;\n",
      "            text-align: center;\n",
      "            padding-left: 32px;\n",
      "            padding-right: 32px;\n",
      "        }\n",
      "        \n",
      "        .notebookFor {\n",
      "            font-size: 18px;\n",
      "            font-weight: 700;\n",
      "            text-align: center;\n",
      "            color: rgb(119, 119, 119);\n",
      "            margin: 24px 0px 0px;\n",
      "            padding: 0px;\n",
      "        }\n",
      "        \n",
      "        .bookTitle {\n",
      "            font-size: 24px;\n",
      "            font-weight: 700;\n",
      "            text-align: center;\n",
      "            color: #333333;\n",
      "            margin-top: 22px;\n",
      "            padding: 0px;\n",
      "        }\n",
      "        \n",
      "        .authors {\n",
      "            font-size: 18px;\n",
      "            font-weight: 700;\n",
      "            text-align: center;\n",
      "            color: rgb(119, 119, 119);\n",
      "            margin-top: 22px;\n",
      "            margin-bottom: 24px;\n",
      "            padding: 0px;\n",
      "        }\n",
      "    \n",
      "        .citation {\n",
      "            font-size: 18px;\n",
      "            font-weight: 500;\n",
      "            text-align: center;\n",
      "            color: #333333;\n",
      "            margin-top: 22px;\n",
      "            margin-bottom: 24px;\n",
      "            padding: 0px;\n",
      "        }\n",
      "    \n",
      "        .sectionHeading {\n",
      "            font-size: 24px;\n",
      "            font-weight: 700;\n",
      "            text-align: left;\n",
      "            color: #333333;\n",
      "            margin-top: 24px;\n",
      "            padding: 0px;\n",
      "        }\n",
      "        \n",
      "        .noteHeading {\n",
      "            font-size: 18px;\n",
      "            font-weight: 700;\n",
      "            text-align: left;\n",
      "            color: #333333;\n",
      "            margin-top: 20px;\n",
      "            padding: 0px;\n",
      "        }\n",
      "        \n",
      "        .noteText {\n",
      "            font-size: 18px;\n",
      "            font-weight: 500;\n",
      "            text-align: left;\n",
      "            color: #333333;\n",
      "            margin: 2px 0px 0px;\n",
      "            padding: 0px;\n",
      "        }\n",
      "        \n",
      "        .highlight_blue {\n",
      "            color: rgb(178, 205, 251);\n",
      "        }\n",
      "        \n",
      "        .highlight_orange {\n",
      "            color: #ffd7ae;\n",
      "        }\n",
      "        \n",
      "        .highlight_pink {\n",
      "            color: rgb(255, 191, 206);\n",
      "        }\n",
      "        \n",
      "        .highlight_yellow {\n",
      "            color: rgb(247, 206, 0);\n",
      "        }\n",
      "        \n",
      "        .notebookGraphic {\n",
      "            margin-top: 10px;\n",
      "            text-align: left;\n",
      "        }\n",
      "        \n",
      "        .notebookGraphic img {\n",
      "            -o-box-shadow:      0px 0px 5px #888;\n",
      "            -icab-box-shadow:   0px 0px 5px #888;\n",
      "            -khtml-box-shadow:  0px 0px 5px #888;\n",
      "            -moz-box-shadow:    0px 0px 5px #888;\n",
      "            -webkit-box-shadow: 0px 0px 5px #888;\n",
      "            box-shadow:         0px 0px 5px #888; \n",
      "            max-width: 100%;\n",
      "            height: auto;\n",
      "        }\n",
      "        \n",
      "        hr {\n",
      "            border: 0px none;\n",
      "            height: 1px;\n",
      "            background: none repeat scroll 0% 0% rgb(221, 221, 221);\n",
      "        }\n",
      "  </style>\n",
      "  <script>\n",
      "  </script>\n",
      " </head>\n",
      " <body>\n",
      "  <div class=\"bodyContainer\">\n",
      "   <div class=\"notebookFor\">\n",
      "    Notebook Export\n",
      "   </div>\n",
      "   <div class=\"bookTitle\">\n",
      "    Naked Statistics: Stripping the Dread from the Data\n",
      "   </div>\n",
      "   <div class=\"authors\">\n",
      "    Wheelan, Charles\n",
      "   </div>\n",
      "   <div class=\"citation\">\n",
      "   </div>\n",
      "   <hr/>\n",
      "   <div class=\"sectionHeading\">\n",
      "    5 Basic Probability: Don’t buy the extended warranty on your $99 printer\n",
      "   </div>\n",
      "   <div class=\"noteHeading\">\n",
      "    Highlight(\n",
      "    <span class=\"highlight_orange\">\n",
      "     orange\n",
      "    </span>\n",
      "    ) - Location 1274\n",
      "   </div>\n",
      "   <div class=\"noteText\">\n",
      "    binomial experiment (also called a Bernoulli trial). The key characteristics of a binomial experiment are that we have a fixed number of trials (e.g., 100 taste testers), each with two possible outcomes (Schlitz or Michelob), and the probability of “success” is the same in each trial. (I am assuming the probability of picking one beer or the other is 50 percent, and I am defining “success” as a tester picking Schlitz.) We also assume that all the “trials” are independent, meaning that one blind taste tester’s decision has no impact on any other tester’s decision.\n",
      "   </div>\n",
      "   <div class=\"noteHeading\">\n",
      "    Note - Location 1276\n",
      "   </div>\n",
      "   <div class=\"noteText\">\n",
      "    What is a binomial experiment?\n",
      "   </div>\n",
      "  </div>\n",
      " </body>\n",
      "</html>\n"
     ]
    }
   ],
   "source": [
    "print(soup.prettify())"
   ]
  },
  {
   "cell_type": "markdown",
   "metadata": {},
   "source": [
    "### Working on this "
   ]
  },
  {
   "cell_type": "code",
   "execution_count": 315,
   "metadata": {},
   "outputs": [
    {
     "name": "stdout",
     "output_type": "stream",
     "text": [
      "8\n",
      "----------\n"
     ]
    }
   ],
   "source": [
    "notes = []\n",
    "highlights = []\n",
    "pattern = re.compile(r'Note -')\n",
    "my_enum = enumerate(soup.findAll(\"div\"))\n",
    "for index, content in my_enum:\n",
    "    if index > 0:\n",
    "        if 'Note -' in content.text:\n",
    "            #print all div\n",
    "            #print(content)\n",
    "            highlights.append(list(enumerate(soup.findAll(\"div\")))[index-1][1].text.strip())\n",
    "            notes.append(list(enumerate(soup.findAll(\"div\")))[index+1][1].text.strip())"
   ]
  },
  {
   "cell_type": "code",
   "execution_count": 317,
   "metadata": {},
   "outputs": [],
   "source": [
    "with open('your_file.txt', 'w') as f:\n",
    "    for i in range(0,len(highlights)):\n",
    "        f.write( notes[i] +';' + highlights[i] + \"\\n\")"
   ]
  }
 ],
 "metadata": {
  "kernelspec": {
   "display_name": "Python 3",
   "language": "python",
   "name": "python3"
  },
  "language_info": {
   "codemirror_mode": {
    "name": "ipython",
    "version": 3
   },
   "file_extension": ".py",
   "mimetype": "text/x-python",
   "name": "python",
   "nbconvert_exporter": "python",
   "pygments_lexer": "ipython3",
   "version": "3.6.7"
  }
 },
 "nbformat": 4,
 "nbformat_minor": 2
}
